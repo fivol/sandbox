{
 "cells": [
  {
   "cell_type": "code",
   "execution_count": 27,
   "metadata": {},
   "outputs": [
    {
     "name": "stdout",
     "output_type": "stream",
     "text": [
      "{'translations': [{'text': 'Привіт мій друг', 'detectedLanguageCode': 'ru'}]}\n"
     ]
    }
   ],
   "source": [
    "import requests\n",
    "\n",
    "URL = \"https://translate.api.cloud.yandex.net/translate/v2/translate\"  #это адрес для обращения к API \n",
    "IAM_TOKEN = \"t1.9euelZrOx8-WnsyazpyRkZTGz8jOl-3rnpWal5aVlM-Xi4-Rl52dnImPnprl8_cTcjh_-e8XfShZ_t3z91MgNn_57xd9KFn-.NxU0v5btdApEsFAFtWqhqCbvLjiT8hnlB6mHYY7ndn88Ssn3VXuyUkr2ax2TfIg3FjE5_3NkV6g4OF_gyY2NCQ\" #Это ваш API ключ \n",
    "API_KEY = 'AQVNz7AiSpbBHL8ZbmsJhwMsSFpOxVMZzWr6aWzc'\n",
    "\n",
    "\n",
    "headers = {\n",
    "    \"Content-Type\": \"application/json\",\n",
    "    \"Authorization\": f\"Api-Key {API_KEY}\"\n",
    "}\n",
    "def translate_me(mytext):\n",
    "\n",
    "    body = {\n",
    "        \"folder_id\": 'b1gpf6j6ejlihe9f4j2m',     \n",
    "        \"texts\": [mytext],\n",
    "        \"targetLanguageCode\": \"uk\"\n",
    "    }\n",
    "    response = requests.post(URL, json=body, headers=headers)\n",
    "    return response.json()\n",
    "\n",
    "json = translate_me(\"Привет мой друг\") #Сюда мы вводим текст который нам нужно перевести (для удобности можно вынести в отдельную переменную\n",
    "print(json)"
   ]
  },
  {
   "cell_type": "code",
   "execution_count": 8,
   "metadata": {},
   "outputs": [
    {
     "ename": "NameError",
     "evalue": "name 'AgAAAABJJUqUAATuwcPbJIoXMU_wpA9tkEVD_K8' is not defined",
     "output_type": "error",
     "traceback": [
      "\u001b[0;31m---------------------------------------------------------------------------\u001b[0m",
      "\u001b[0;31mNameError\u001b[0m                                 Traceback (most recent call last)",
      "\u001b[0;32m<ipython-input-8-864c419f85df>\u001b[0m in \u001b[0;36m<module>\u001b[0;34m\u001b[0m\n\u001b[0;32m----> 1\u001b[0;31m \u001b[0mAgAAAABJJUqUAATuwcPbJIoXMU_wpA9tkEVD_K8\u001b[0m\u001b[0;34m\u001b[0m\u001b[0;34m\u001b[0m\u001b[0m\n\u001b[0m",
      "\u001b[0;31mNameError\u001b[0m: name 'AgAAAABJJUqUAATuwcPbJIoXMU_wpA9tkEVD_K8' is not defined"
     ]
    }
   ],
   "source": [
    "AgAAAABJJUqUAATuwcPbJIoXMU_wpA9tkEVD_K8\n",
    "b1gpf6j6ejlihe9f4j2m"
   ]
  },
  {
   "cell_type": "code",
   "execution_count": 30,
   "metadata": {},
   "outputs": [],
   "source": [
    "from scrapy.selector import Selector\n",
    "from urllib.parse import quote"
   ]
  },
  {
   "cell_type": "code",
   "execution_count": null,
   "metadata": {},
   "outputs": [],
   "source": [
    "\n",
    "def translate(text):\n",
    "    url = f'https://translate.google.com/?sl=ru&tl=en&text={quote(text)}'\n",
    "    response = requests.get(url)\n",
    "    Selector(text=response.text)\n",
    "    return "
   ]
  }
 ],
 "metadata": {
  "kernelspec": {
   "display_name": "Python 3",
   "language": "python",
   "name": "python3"
  },
  "language_info": {
   "codemirror_mode": {
    "name": "ipython",
    "version": 3
   },
   "file_extension": ".py",
   "mimetype": "text/x-python",
   "name": "python",
   "nbconvert_exporter": "python",
   "pygments_lexer": "ipython3",
   "version": "3.8.3"
  }
 },
 "nbformat": 4,
 "nbformat_minor": 4
}
