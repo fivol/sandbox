{
 "cells": [
  {
   "cell_type": "code",
   "execution_count": 18,
   "metadata": {},
   "outputs": [
    {
     "data": {
      "text/plain": [
       "{'Errors': [{'Id': 0,\n",
       "   'Code': 'Invalid',\n",
       "   'Message': 'Invalid unique identifier.',\n",
       "   'ResourceKey': 'InvalidIdentifier',\n",
       "   'ResourceFormatString': None,\n",
       "   'ResourceFormatString2': None,\n",
       "   'PropertyName': 'API Key'}],\n",
       " 'SearchResults': None}"
      ]
     },
     "execution_count": 18,
     "metadata": {},
     "output_type": "execute_result"
    }
   ],
   "source": [
    "import requests\n",
    "key = '56bd3c91-8885-4397-9fdf-68c440296e87'\n",
    "r = requests.post(\n",
    "    f\"https://api.mouser.com/api/v1/search/partnumber?apiKey={key}\",\n",
    "    data='{ \"SearchByPartRequest\": { \"mouserPartNumber\": \"579-25CSM04T-I/SN\", \"partSearchOptions\": \"string\" }}',\n",
    "    headers={\n",
    "        \"accept\": \"application/json\",\n",
    "        \"Content-Type\": \"application/json\",\n",
    "    },\n",
    ")\n",
    "r.json()"
   ]
  },
  {
   "cell_type": "code",
   "execution_count": 3,
   "metadata": {},
   "outputs": [
    {
     "data": {
      "text/plain": [
       "<Response [200]>"
      ]
     },
     "execution_count": 3,
     "metadata": {},
     "output_type": "execute_result"
    }
   ],
   "source": [
    "r"
   ]
  },
  {
   "cell_type": "code",
   "execution_count": null,
   "metadata": {},
   "outputs": [],
   "source": []
  }
 ],
 "metadata": {
  "kernelspec": {
   "display_name": "Python 3",
   "language": "python",
   "name": "python3"
  },
  "language_info": {
   "codemirror_mode": {
    "name": "ipython",
    "version": 3
   },
   "file_extension": ".py",
   "mimetype": "text/x-python",
   "name": "python",
   "nbconvert_exporter": "python",
   "pygments_lexer": "ipython3",
   "version": "3.8.3"
  }
 },
 "nbformat": 4,
 "nbformat_minor": 4
}
