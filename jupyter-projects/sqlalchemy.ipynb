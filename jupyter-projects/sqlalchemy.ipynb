{
 "cells": [
  {
   "cell_type": "code",
   "execution_count": 2,
   "metadata": {},
   "outputs": [],
   "source": [
    "from sqlalchemy import MetaData, Integer, String, Column, Table, create_engine"
   ]
  },
  {
   "cell_type": "code",
   "execution_count": 3,
   "metadata": {},
   "outputs": [],
   "source": [
    "engine = create_engine('sqlite://', echo=True)"
   ]
  },
  {
   "cell_type": "code",
   "execution_count": null,
   "metadata": {},
   "outputs": [],
   "source": []
  },
  {
   "cell_type": "code",
   "execution_count": 6,
   "metadata": {},
   "outputs": [
    {
     "ename": "AttributeError",
     "evalue": "'Engine' object has no attribute 'create_table'",
     "output_type": "error",
     "traceback": [
      "\u001b[0;31m---------------------------------------------------------------------------\u001b[0m",
      "\u001b[0;31mAttributeError\u001b[0m                            Traceback (most recent call last)",
      "\u001b[0;32m<ipython-input-6-3eaac5f54705>\u001b[0m in \u001b[0;36m<module>\u001b[0;34m\u001b[0m\n\u001b[1;32m      3\u001b[0m                   \u001b[0mColumn\u001b[0m\u001b[0;34m(\u001b[0m\u001b[0;34m'id'\u001b[0m\u001b[0;34m,\u001b[0m \u001b[0mInteger\u001b[0m\u001b[0;34m,\u001b[0m \u001b[0mprimary_key\u001b[0m\u001b[0;34m=\u001b[0m\u001b[0;32mTrue\u001b[0m\u001b[0;34m)\u001b[0m\u001b[0;34m,\u001b[0m\u001b[0;34m\u001b[0m\u001b[0;34m\u001b[0m\u001b[0m\n\u001b[1;32m      4\u001b[0m                   Column('name', String))\n\u001b[0;32m----> 5\u001b[0;31m \u001b[0mengine\u001b[0m\u001b[0;34m.\u001b[0m\u001b[0mcreate_table\u001b[0m\u001b[0;34m(\u001b[0m\u001b[0muser_table\u001b[0m\u001b[0;34m)\u001b[0m\u001b[0;34m\u001b[0m\u001b[0;34m\u001b[0m\u001b[0m\n\u001b[0m",
      "\u001b[0;31mAttributeError\u001b[0m: 'Engine' object has no attribute 'create_table'"
     ]
    }
   ],
   "source": [
    "metadata = MetaData()\n",
    "user_table = Table('user', metadata,\n",
    "                  Column('id', Integer, primary_key=True),\n",
    "                  Column('name', String))\n",
    "engine.create_table(user_table)str(user_table.create(engine))"
   ]
  },
  {
   "cell_type": "code",
   "execution_count": 177,
   "metadata": {},
   "outputs": [
    {
     "name": "stdout",
     "output_type": "stream",
     "text": [
      "2021-02-01 19:56:28,127 INFO sqlalchemy.engine.base.Engine INSERT INTO user (name) VALUES (?)\n",
      "2021-02-01 19:56:28,128 INFO sqlalchemy.engine.base.Engine ('Aidka',)\n",
      "2021-02-01 19:56:28,129 INFO sqlalchemy.engine.base.Engine COMMIT\n"
     ]
    },
    {
     "data": {
      "text/plain": [
       "<sqlalchemy.engine.result.ResultProxy at 0x7face5038df0>"
      ]
     },
     "execution_count": 177,
     "metadata": {},
     "output_type": "execute_result"
    }
   ],
   "source": [
    "query = user_table.insert({'name': 'Aidka'})\n",
    "engine.execute(query)"
   ]
  },
  {
   "cell_type": "code",
   "execution_count": 179,
   "metadata": {},
   "outputs": [
    {
     "name": "stdout",
     "output_type": "stream",
     "text": [
      "2021-02-01 19:56:54,430 INFO sqlalchemy.engine.base.Engine \n",
      "DROP TABLE user\n",
      "2021-02-01 19:56:54,442 INFO sqlalchemy.engine.base.Engine ()\n",
      "2021-02-01 19:56:54,444 INFO sqlalchemy.engine.base.Engine COMMIT\n"
     ]
    }
   ],
   "source": [
    "user_table.drop(engine)"
   ]
  },
  {
   "cell_type": "code",
   "execution_count": 56,
   "metadata": {},
   "outputs": [
    {
     "name": "stdout",
     "output_type": "stream",
     "text": [
      "2021-02-01 19:23:19,655 INFO sqlalchemy.engine.base.Engine select * from user\n",
      "2021-02-01 19:23:19,657 INFO sqlalchemy.engine.base.Engine ()\n"
     ]
    },
    {
     "data": {
      "text/plain": [
       "[(1, 'Boris'), (2, 'Aidka')]"
      ]
     },
     "execution_count": 56,
     "metadata": {},
     "output_type": "execute_result"
    }
   ],
   "source": [
    "engine.execute('select * from user').fetchall()"
   ]
  },
  {
   "cell_type": "code",
   "execution_count": 85,
   "metadata": {},
   "outputs": [
    {
     "data": {
      "text/plain": [
       "'SELECT id, name \\nFROM (SELECT \"user\".id AS id, \"user\".name AS name \\nFROM \"user\"), \"user\" \\nWHERE \"user\".name = :name_1 ORDER BY \"user\".id DESC'"
      ]
     },
     "execution_count": 85,
     "metadata": {},
     "output_type": "execute_result"
    }
   ],
   "source": [
    "query = user_table.select(user_table.c.name == 'Boris')\n",
    "str(user_table.select().select(user_table.c.name == 'boris').order_by(user_table.c.id.desc()))"
   ]
  },
  {
   "cell_type": "code",
   "execution_count": 74,
   "metadata": {},
   "outputs": [
    {
     "data": {
      "text/plain": [
       "'SELECT id, name \\nFROM (SELECT \"user\".id AS id, \"user\".name AS name \\nFROM \"user\" \\nWHERE \"user\".name = :name_1), \"user\" \\nWHERE \"user\".id'"
      ]
     },
     "execution_count": 74,
     "metadata": {},
     "output_type": "execute_result"
    }
   ],
   "source": [
    "user_table.select(user_table.c.name == 'Boris').select(user_table.c.id).__str__()"
   ]
  },
  {
   "cell_type": "code",
   "execution_count": 132,
   "metadata": {},
   "outputs": [],
   "source": [
    "from sqlalchemy import DateTime, ForeignKey\n",
    "metadata = MetaData(bind=engine)\n"
   ]
  },
  {
   "cell_type": "code",
   "execution_count": 133,
   "metadata": {},
   "outputs": [],
   "source": [
    "user_table = Table('user', metadata,\n",
    "                  Column('id', Integer, primary_key=True),\n",
    "                  Column('name', String))"
   ]
  },
  {
   "cell_type": "code",
   "execution_count": 134,
   "metadata": {},
   "outputs": [],
   "source": [
    "network_table = Table('network', metadata,\n",
    "               Column('id', Integer, primary_key=True),\n",
    "               Column('name', String, nullable=False),\n",
    "               Column('created_at', DateTime, nullable=False),\n",
    "               Column('owner_id', Integer, ForeignKey('user.id')))"
   ]
  },
  {
   "cell_type": "code",
   "execution_count": 137,
   "metadata": {},
   "outputs": [
    {
     "name": "stdout",
     "output_type": "stream",
     "text": [
      "2021-02-01 19:39:47,746 INFO sqlalchemy.engine.base.Engine PRAGMA main.table_info(\"user\")\n",
      "2021-02-01 19:39:47,748 INFO sqlalchemy.engine.base.Engine ()\n",
      "2021-02-01 19:39:47,751 INFO sqlalchemy.engine.base.Engine PRAGMA main.table_info(\"network\")\n",
      "2021-02-01 19:39:47,752 INFO sqlalchemy.engine.base.Engine ()\n"
     ]
    }
   ],
   "source": [
    "#metadata.drop_all()\n",
    "metadata.create_all()"
   ]
  },
  {
   "cell_type": "code",
   "execution_count": 138,
   "metadata": {},
   "outputs": [
    {
     "name": "stdout",
     "output_type": "stream",
     "text": [
      "2021-02-01 19:41:15,690 INFO sqlalchemy.engine.base.Engine PRAGMA main.table_xinfo(\"user\")\n",
      "2021-02-01 19:41:15,693 INFO sqlalchemy.engine.base.Engine ()\n",
      "2021-02-01 19:41:15,699 INFO sqlalchemy.engine.base.Engine SELECT sql FROM  (SELECT * FROM sqlite_master UNION ALL   SELECT * FROM sqlite_temp_master) WHERE name = 'user' AND type = 'table'\n",
      "2021-02-01 19:41:15,701 INFO sqlalchemy.engine.base.Engine ()\n",
      "2021-02-01 19:41:15,705 INFO sqlalchemy.engine.base.Engine PRAGMA main.foreign_key_list(\"user\")\n",
      "2021-02-01 19:41:15,706 INFO sqlalchemy.engine.base.Engine ()\n",
      "2021-02-01 19:41:15,707 INFO sqlalchemy.engine.base.Engine PRAGMA temp.foreign_key_list(\"user\")\n",
      "2021-02-01 19:41:15,709 INFO sqlalchemy.engine.base.Engine ()\n",
      "2021-02-01 19:41:15,710 INFO sqlalchemy.engine.base.Engine SELECT sql FROM  (SELECT * FROM sqlite_master UNION ALL   SELECT * FROM sqlite_temp_master) WHERE name = 'user' AND type = 'table'\n",
      "2021-02-01 19:41:15,712 INFO sqlalchemy.engine.base.Engine ()\n",
      "2021-02-01 19:41:15,714 INFO sqlalchemy.engine.base.Engine PRAGMA main.index_list(\"user\")\n",
      "2021-02-01 19:41:15,715 INFO sqlalchemy.engine.base.Engine ()\n",
      "2021-02-01 19:41:15,716 INFO sqlalchemy.engine.base.Engine PRAGMA temp.index_list(\"user\")\n",
      "2021-02-01 19:41:15,717 INFO sqlalchemy.engine.base.Engine ()\n",
      "2021-02-01 19:41:15,718 INFO sqlalchemy.engine.base.Engine PRAGMA main.index_list(\"user\")\n",
      "2021-02-01 19:41:15,719 INFO sqlalchemy.engine.base.Engine ()\n",
      "2021-02-01 19:41:15,720 INFO sqlalchemy.engine.base.Engine PRAGMA temp.index_list(\"user\")\n",
      "2021-02-01 19:41:15,720 INFO sqlalchemy.engine.base.Engine ()\n",
      "2021-02-01 19:41:15,721 INFO sqlalchemy.engine.base.Engine SELECT sql FROM  (SELECT * FROM sqlite_master UNION ALL   SELECT * FROM sqlite_temp_master) WHERE name = 'user' AND type = 'table'\n",
      "2021-02-01 19:41:15,722 INFO sqlalchemy.engine.base.Engine ()\n"
     ]
    },
    {
     "data": {
      "text/plain": [
       "'user'"
      ]
     },
     "execution_count": 138,
     "metadata": {},
     "output_type": "execute_result"
    }
   ],
   "source": [
    "metadata2 = MetaData()\n",
    "user_reflected = Table('user', metadata2, autoload=True, autoload_with=engine)\n",
    "user_reflected.__str__()"
   ]
  },
  {
   "cell_type": "code",
   "execution_count": 141,
   "metadata": {},
   "outputs": [
    {
     "data": {
      "text/plain": [
       "Table('user', MetaData(bind=None), Column('id', INTEGER(), table=<user>, primary_key=True, nullable=False), Column('name', VARCHAR(), table=<user>), schema=None)"
      ]
     },
     "execution_count": 141,
     "metadata": {},
     "output_type": "execute_result"
    }
   ],
   "source": [
    "user_reflected"
   ]
  },
  {
   "cell_type": "code",
   "execution_count": 144,
   "metadata": {},
   "outputs": [],
   "source": [
    "from sqlalchemy import inspect\n",
    "inspector = inspect(engine)"
   ]
  },
  {
   "cell_type": "code",
   "execution_count": 148,
   "metadata": {},
   "outputs": [
    {
     "name": "stdout",
     "output_type": "stream",
     "text": [
      "2021-02-01 19:45:31,767 INFO sqlalchemy.engine.base.Engine PRAGMA main.table_xinfo(\"network\")\n",
      "2021-02-01 19:45:31,770 INFO sqlalchemy.engine.base.Engine ()\n"
     ]
    },
    {
     "data": {
      "text/plain": [
       "[{'name': 'id',\n",
       "  'type': INTEGER(),\n",
       "  'nullable': False,\n",
       "  'default': None,\n",
       "  'autoincrement': 'auto',\n",
       "  'primary_key': 1},\n",
       " {'name': 'name',\n",
       "  'type': VARCHAR(),\n",
       "  'nullable': False,\n",
       "  'default': None,\n",
       "  'autoincrement': 'auto',\n",
       "  'primary_key': 0},\n",
       " {'name': 'created_at',\n",
       "  'type': DATETIME(),\n",
       "  'nullable': False,\n",
       "  'default': None,\n",
       "  'autoincrement': 'auto',\n",
       "  'primary_key': 0},\n",
       " {'name': 'owner_id',\n",
       "  'type': INTEGER(),\n",
       "  'nullable': True,\n",
       "  'default': None,\n",
       "  'autoincrement': 'auto',\n",
       "  'primary_key': 0}]"
      ]
     },
     "execution_count": 148,
     "metadata": {},
     "output_type": "execute_result"
    }
   ],
   "source": [
    "inspector.get_columns('network')"
   ]
  },
  {
   "cell_type": "code",
   "execution_count": 150,
   "metadata": {},
   "outputs": [],
   "source": [
    "user_reflected = Table('user', metadata2, autoload=True, load_with=engine)"
   ]
  },
  {
   "cell_type": "code",
   "execution_count": 151,
   "metadata": {},
   "outputs": [
    {
     "data": {
      "text/plain": [
       "Table('user', MetaData(bind=None), Column('id', INTEGER(), table=<user>, primary_key=True, nullable=False), Column('name', VARCHAR(), table=<user>), schema=None)"
      ]
     },
     "execution_count": 151,
     "metadata": {},
     "output_type": "execute_result"
    }
   ],
   "source": [
    "user_reflected"
   ]
  },
  {
   "cell_type": "code",
   "execution_count": 157,
   "metadata": {},
   "outputs": [],
   "source": [
    "database table is lockedmetadata3 = MetaData()\n",
    "user_table = Table('user', metadata3, Column('id', Integer(), primary_key=True, nullable=False), Column('name', String()), schema=None)"
   ]
  },
  {
   "cell_type": "code",
   "execution_count": 159,
   "metadata": {},
   "outputs": [
    {
     "data": {
      "text/plain": [
       "immutabledict({'user': Table('user', MetaData(bind=None), Column('id', Integer(), table=<user>, primary_key=True, nullable=False), Column('name', String(), table=<user>), schema=None)})"
      ]
     },
     "execution_count": 159,
     "metadata": {},
     "output_type": "execute_result"
    }
   ],
   "source": [
    "metadata3.tables"
   ]
  },
  {
   "cell_type": "code",
   "execution_count": 204,
   "metadata": {},
   "outputs": [
    {
     "data": {
      "text/plain": [
       "'\"user\".id > :id_1 OR \"user\".name = :name_1 AND \"user\".name = :name_2'"
      ]
     },
     "execution_count": 204,
     "metadata": {},
     "output_type": "execute_result"
    }
   ],
   "source": [
    "((user_table.c.id > 4) | (user_table.c.name == 'sdf') & (user_table.c.name == '32')).__str__()"
   ]
  },
  {
   "cell_type": "code",
   "execution_count": 252,
   "metadata": {},
   "outputs": [],
   "source": [
    "from sqlalchemy import or_, and_, select"
   ]
  },
  {
   "cell_type": "code",
   "execution_count": 214,
   "metadata": {},
   "outputs": [
    {
     "data": {
      "text/plain": [
       "['clauses',\n",
       " 'group',\n",
       " 'operator',\n",
       " 'group_contents',\n",
       " 'type',\n",
       " '_is_implicitly_boolean',\n",
       " '__module__',\n",
       " '__visit_name__',\n",
       " '_tuple_values',\n",
       " '__init__',\n",
       " '_construct',\n",
       " 'and_',\n",
       " 'or_',\n",
       " '_select_iterable',\n",
       " 'self_group',\n",
       " '_negate',\n",
       " '__doc__',\n",
       " '_compiler_dispatch',\n",
       " '__iter__',\n",
       " '__len__',\n",
       " 'append',\n",
       " '_copy_internals',\n",
       " 'get_children',\n",
       " '_from_objects',\n",
       " 'compare',\n",
       " '_annotations',\n",
       " 'supports_execution',\n",
       " 'bind',\n",
       " '_is_clone_of',\n",
       " 'is_selectable',\n",
       " 'is_clause_element',\n",
       " 'description',\n",
       " '_order_by_label_element',\n",
       " '_is_from_container',\n",
       " '_clone',\n",
       " '_constructor',\n",
       " '_cloned_set',\n",
       " '__getstate__',\n",
       " '_annotate',\n",
       " '_with_annotations',\n",
       " '_deannotate',\n",
       " '_execute_on_connection',\n",
       " 'unique_params',\n",
       " 'params',\n",
       " '_params',\n",
       " 'compile',\n",
       " '_compiler',\n",
       " '__str__',\n",
       " '__and__',\n",
       " '__or__',\n",
       " '__invert__',\n",
       " '__bool__',\n",
       " '__nonzero__',\n",
       " '__repr__',\n",
       " '__dict__',\n",
       " '__weakref__',\n",
       " '__hash__',\n",
       " '__getattribute__',\n",
       " '__setattr__',\n",
       " '__delattr__',\n",
       " '__lt__',\n",
       " '__le__',\n",
       " '__eq__',\n",
       " '__ne__',\n",
       " '__gt__',\n",
       " '__ge__',\n",
       " '__new__',\n",
       " '__reduce_ex__',\n",
       " '__reduce__',\n",
       " '__subclasshook__',\n",
       " '__init_subclass__',\n",
       " '__format__',\n",
       " '__sizeof__',\n",
       " '__dir__',\n",
       " '__class__',\n",
       " 'primary_key',\n",
       " 'foreign_keys',\n",
       " '_proxies',\n",
       " '_label',\n",
       " 'key',\n",
       " '_key_label',\n",
       " '_render_label_in_columns_clause',\n",
       " '_resolve_label',\n",
       " '_allow_label_resolve',\n",
       " '_alt_names',\n",
       " 'comparator',\n",
       " '__getattr__',\n",
       " 'operate',\n",
       " 'reverse_operate',\n",
       " '_bind_param',\n",
       " 'expression',\n",
       " 'base_columns',\n",
       " 'proxy_set',\n",
       " '_uncached_proxy_set',\n",
       " 'shares_lineage',\n",
       " '_compare_name_for_result',\n",
       " '_make_proxy',\n",
       " 'cast',\n",
       " 'label',\n",
       " 'anon_label',\n",
       " '__slots__',\n",
       " 'timetuple',\n",
       " 'is_distinct_from',\n",
       " 'isnot_distinct_from',\n",
       " '__neg__',\n",
       " '__contains__',\n",
       " '__getitem__',\n",
       " '__lshift__',\n",
       " '__rshift__',\n",
       " 'concat',\n",
       " 'like',\n",
       " 'ilike',\n",
       " 'in_',\n",
       " 'notin_',\n",
       " 'notlike',\n",
       " 'notilike',\n",
       " 'is_',\n",
       " 'isnot',\n",
       " 'startswith',\n",
       " 'endswith',\n",
       " 'contains',\n",
       " 'match',\n",
       " 'desc',\n",
       " 'asc',\n",
       " 'nullsfirst',\n",
       " 'nullslast',\n",
       " 'collate',\n",
       " '__radd__',\n",
       " '__rsub__',\n",
       " '__rmul__',\n",
       " '__rdiv__',\n",
       " '__rmod__',\n",
       " 'between',\n",
       " 'distinct',\n",
       " 'any_',\n",
       " 'all_',\n",
       " '__add__',\n",
       " '__sub__',\n",
       " '__mul__',\n",
       " '__div__',\n",
       " '__mod__',\n",
       " '__truediv__',\n",
       " '__rtruediv__',\n",
       " 'op',\n",
       " 'bool_op']"
      ]
     },
     "execution_count": 214,
     "metadata": {},
     "output_type": "execute_result"
    }
   ],
   "source": [
    "or_(user_table.c.id== 3, user_table.c.name == '23').__dir__()"
   ]
  },
  {
   "cell_type": "code",
   "execution_count": 237,
   "metadata": {},
   "outputs": [
    {
     "data": {
      "text/plain": [
       "{'id_1': 3, 'name_1': '23'}"
      ]
     },
     "execution_count": 237,
     "metadata": {},
     "output_type": "execute_result"
    }
   ],
   "source": [
    "or_(user_table.c.id== 3, user_table.c.name == '23').compile().params"
   ]
  },
  {
   "cell_type": "code",
   "execution_count": 247,
   "metadata": {},
   "outputs": [],
   "source": [
    "from sqlalchemy.dialects.postgresql import insert"
   ]
  },
  {
   "cell_type": "code",
   "execution_count": 250,
   "metadata": {},
   "outputs": [
    {
     "data": {
      "text/plain": [
       "<sqlalchemy.dialects.postgresql.dml.Insert object at 0x7face41ef7c0>"
      ]
     },
     "execution_count": 250,
     "metadata": {},
     "output_type": "execute_result"
    }
   ],
   "source": [
    "user_table.insert().values=[{'name': 'boris'}, {'name': 'Aida'}])"
   ]
  },
  {
   "cell_type": "code",
   "execution_count": 255,
   "metadata": {},
   "outputs": [
    {
     "data": {
      "text/plain": [
       "'SELECT \"user\".id \\nFROM \"user\"'"
      ]
     },
     "execution_count": 255,
     "metadata": {},
     "output_type": "execute_result"
    }
   ],
   "source": [
    "select([user_table.c.id]).__str__()"
   ]
  },
  {
   "cell_type": "code",
   "execution_count": null,
   "metadata": {},
   "outputs": [],
   "source": []
  }
 ],
 "metadata": {
  "kernelspec": {
   "display_name": "Python 3",
   "language": "python",
   "name": "python3"
  },
  "language_info": {
   "codemirror_mode": {
    "name": "ipython",
    "version": 3
   },
   "file_extension": ".py",
   "mimetype": "text/x-python",
   "name": "python",
   "nbconvert_exporter": "python",
   "pygments_lexer": "ipython3",
   "version": "3.8.3"
  }
 },
 "nbformat": 4,
 "nbformat_minor": 4
}
