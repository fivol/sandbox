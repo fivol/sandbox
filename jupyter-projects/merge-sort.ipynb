{
 "cells": [
  {
   "cell_type": "code",
   "execution_count": 1,
   "metadata": {
    "scrolled": true
   },
   "outputs": [],
   "source": [
    "import random\n",
    "def generate_array(n):\n",
    "    return random.sample(range(n), n)"
   ]
  },
  {
   "cell_type": "code",
   "execution_count": 2,
   "metadata": {},
   "outputs": [
    {
     "name": "stdout",
     "output_type": "stream",
     "text": [
      "CPU times: user 4 µs, sys: 1 µs, total: 5 µs\n",
      "Wall time: 7.39 µs\n"
     ]
    }
   ],
   "source": [
    "%time\n",
    "a = generate_array(100)"
   ]
  },
  {
   "cell_type": "code",
   "execution_count": 3,
   "metadata": {},
   "outputs": [],
   "source": [
    "def merge(left, right):\n",
    "    result = []\n",
    "    i, j = 0, 0\n",
    "    while i < len(left) or j < len(right):\n",
    "        if i < len(left) and j < len(right):\n",
    "            if left[i] < right[j]:\n",
    "                result.append(left[i])\n",
    "                i += 1\n",
    "            else:\n",
    "                result.append(right[j])\n",
    "                j += 1\n",
    "        elif i >= len(left):\n",
    "            result.append(right[j])\n",
    "            j += 1\n",
    "        else:\n",
    "            result.append(left[i])\n",
    "            i += 1\n",
    "\n",
    "    return result\n",
    "\n",
    "def merge_sort(arr):\n",
    "    assert isinstance(arr, list)\n",
    "    if len(arr) <= 1:\n",
    "        return arr\n",
    "    middle = len(arr) // 2\n",
    "    left, right = arr[:middle], arr[middle:]\n",
    "    return merge(merge_sort(left), merge_sort(right))"
   ]
  },
  {
   "cell_type": "code",
   "execution_count": 6,
   "metadata": {},
   "outputs": [],
   "source": [
    "from multiprocessing import Process, Queue, Pipe\n",
    "\n",
    "def paralel_merge_sort(arr, fork_limit=8, q=None):\n",
    "    assert isinstance(arr, list)\n",
    "    if len(arr) <= 1:\n",
    "        result = arr\n",
    "    else:\n",
    "        middle = len(arr) // 2\n",
    "        left, right = arr[:middle], arr[middle:]\n",
    "        if not fork_limit or len(arr) < 1000:\n",
    "            result = merge(merge_sort(left), merge_sort(right))\n",
    "        else:\n",
    "            parent_conn, child_conn = Pipe()\n",
    "            process = Process(target=paralel_merge_sort, args=(left,), \n",
    "                              kwargs={'fork_limit': fork_limit // 2, 'q': child_conn})\n",
    "            process.start()\n",
    "            right = paralel_merge_sort(right, fork_limit=fork_limit // 2)\n",
    "            process.join()\n",
    "            result = merge(parent_conn.recv(), right)\n",
    "\n",
    "    if q:\n",
    "        q.send(result)\n",
    "        q.close()\n",
    "    else:\n",
    "        return result"
   ]
  },
  {
   "cell_type": "code",
   "execution_count": 80,
   "metadata": {},
   "outputs": [],
   "source": [
    "n = 1000000\n",
    "a = generate_array(n)\n",
    "good = sorted(a)"
   ]
  },
  {
   "cell_type": "code",
   "execution_count": 81,
   "metadata": {},
   "outputs": [
    {
     "name": "stdout",
     "output_type": "stream",
     "text": [
      "CPU times: user 404 ms, sys: 7.48 ms, total: 411 ms\n",
      "Wall time: 409 ms\n"
     ]
    },
    {
     "data": {
      "text/plain": [
       "True"
      ]
     },
     "execution_count": 81,
     "metadata": {},
     "output_type": "execute_result"
    }
   ],
   "source": [
    "%%time\n",
    "sorted(a.copy()) == good"
   ]
  },
  {
   "cell_type": "code",
   "execution_count": 82,
   "metadata": {},
   "outputs": [
    {
     "name": "stdout",
     "output_type": "stream",
     "text": [
      "CPU times: user 6.74 s, sys: 0 ns, total: 6.74 s\n",
      "Wall time: 6.74 s\n"
     ]
    },
    {
     "data": {
      "text/plain": [
       "True"
      ]
     },
     "execution_count": 82,
     "metadata": {},
     "output_type": "execute_result"
    }
   ],
   "source": [
    "%%time\n",
    "merge_sort(a.copy()) == good"
   ]
  },
  {
   "cell_type": "code",
   "execution_count": null,
   "metadata": {},
   "outputs": [],
   "source": [
    "%%time\n",
    "paralel_merge_sort(a.copy()) == good"
   ]
  },
  {
   "cell_type": "code",
   "execution_count": null,
   "metadata": {},
   "outputs": [],
   "source": []
  }
 ],
 "metadata": {
  "kernelspec": {
   "display_name": "Python 3",
   "language": "python",
   "name": "python3"
  },
  "language_info": {
   "codemirror_mode": {
    "name": "ipython",
    "version": 3
   },
   "file_extension": ".py",
   "mimetype": "text/x-python",
   "name": "python",
   "nbconvert_exporter": "python",
   "pygments_lexer": "ipython3",
   "version": "3.8.5"
  }
 },
 "nbformat": 4,
 "nbformat_minor": 4
}
